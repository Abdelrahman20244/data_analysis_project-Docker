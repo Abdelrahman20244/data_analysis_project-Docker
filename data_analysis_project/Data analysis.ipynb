{
 "cells": [
  {
   "cell_type": "markdown",
   "id": "76f4f554",
   "metadata": {},
   "source": [
    "## Abdelrhman Ahmed Fathy \n",
    "## ID 20221441784"
   ]
  },
  {
   "cell_type": "markdown",
   "id": "e7fca765",
   "metadata": {},
   "source": [
    "## Assignment 2 | Dockerfile and Data Analysis with Popular Books Dataset"
   ]
  },
  {
   "cell_type": "code",
   "execution_count": 26,
   "id": "2eac92b1",
   "metadata": {},
   "outputs": [
    {
     "name": "stdout",
     "output_type": "stream",
     "text": [
      "   book_id  goodreads_book_id  best_book_id   work_id  books_count       isbn  \\\n",
      "0        1            2767052       2767052   2792775          272  439023483   \n",
      "1        2                  3             3   4640799          491  439554934   \n",
      "2        3              41865         41865   3212258          226  316015849   \n",
      "3        6           11870085      11870085  16827462          226  525478817   \n",
      "4       12           13335037      13335037  13155899          210   62024035   \n",
      "\n",
      "         isbn13                      authors  original_publication_year  \\\n",
      "0  9.780439e+12              Suzanne Collins                     2008.0   \n",
      "1  9.780440e+12  J.K. Rowling, Mary GrandPré                     1997.0   \n",
      "2  9.780316e+12              Stephenie Meyer                     2005.0   \n",
      "3  9.780525e+12                   John Green                     2012.0   \n",
      "4  9.780062e+12                Veronica Roth                     2011.0   \n",
      "\n",
      "                             original_title  ... ratings_count  \\\n",
      "0                          The Hunger Games  ...       4780653   \n",
      "1  Harry Potter and the Philosopher's Stone  ...       4602479   \n",
      "2                                  Twilight  ...       3866839   \n",
      "3                    The Fault in Our Stars  ...       2346404   \n",
      "4                                 Divergent  ...       1903563   \n",
      "\n",
      "  work_ratings_count  work_text_reviews_count  ratings_1  ratings_2  \\\n",
      "0            4942365                   155254      66715     127936   \n",
      "1            4800065                    75867      75504     101676   \n",
      "2            3916824                    95009     456191     436802   \n",
      "3            2478609                   140739      47994      92723   \n",
      "4            2216814                   101023      36315      82870   \n",
      "\n",
      "   ratings_3  ratings_4  ratings_5  \\\n",
      "0     560092    1481305    2706317   \n",
      "1     455024    1156318    3011543   \n",
      "2     793319     875073    1355439   \n",
      "3     327550     698471    1311871   \n",
      "4     310297     673028    1114304   \n",
      "\n",
      "                                           image_url  \\\n",
      "0  https://images.gr-assets.com/books/1447303603m...   \n",
      "1  https://images.gr-assets.com/books/1474154022m...   \n",
      "2  https://images.gr-assets.com/books/1361039443m...   \n",
      "3  https://images.gr-assets.com/books/1360206420m...   \n",
      "4  https://images.gr-assets.com/books/1328559506m...   \n",
      "\n",
      "                                     small_image_url  \n",
      "0  https://images.gr-assets.com/books/1447303603s...  \n",
      "1  https://images.gr-assets.com/books/1474154022s...  \n",
      "2  https://images.gr-assets.com/books/1361039443s...  \n",
      "3  https://images.gr-assets.com/books/1360206420s...  \n",
      "4  https://images.gr-assets.com/books/1328559506s...  \n",
      "\n",
      "[5 rows x 23 columns]\n"
     ]
    }
   ],
   "source": [
    "import pandas as pd\n",
    "\n",
    "# Load the dataset into the notebook\n",
    "df = pd.read_csv('D:\\\\shiko desktop\\\\Desktop\\\\data_analysis_project\\\\books.csv')\n",
    "\n",
    "# Inspect the dataset\n",
    "print(df.head())"
   ]
  },
  {
   "cell_type": "markdown",
   "id": "9004d362",
   "metadata": {},
   "source": [
    "## Objective\n",
    "For this assignment, you will be working with the Popular Books Dataset from Kaggle. The dataset can be\n",
    "accessed from the following link: [Popular Books Dataset]\n",
    "Your task is to create a Jupyter Notebook that includes data cleaning and preprocessing steps, followed\n",
    "by an analysis focused on the Harry Potter book series."
   ]
  },
  {
   "cell_type": "markdown",
   "id": "63eef140",
   "metadata": {},
   "source": [
    "## Data Cleaning and Preprocessing"
   ]
  },
  {
   "cell_type": "code",
   "execution_count": 27,
   "id": "f253c00d",
   "metadata": {},
   "outputs": [
    {
     "name": "stdout",
     "output_type": "stream",
     "text": [
      "\n",
      "Missing Values:\n",
      "book_id                        0\n",
      "goodreads_book_id              0\n",
      "best_book_id                   0\n",
      "work_id                        0\n",
      "books_count                    0\n",
      "isbn                          52\n",
      "isbn13                        44\n",
      "authors                        0\n",
      "original_publication_year      3\n",
      "original_title                52\n",
      "title                          0\n",
      "language_code                109\n",
      "average_rating                 0\n",
      "ratings_count                  0\n",
      "work_ratings_count             0\n",
      "work_text_reviews_count        0\n",
      "ratings_1                      0\n",
      "ratings_2                      0\n",
      "ratings_3                      0\n",
      "ratings_4                      0\n",
      "ratings_5                      0\n",
      "image_url                      0\n",
      "small_image_url                0\n",
      "dtype: int64\n"
     ]
    }
   ],
   "source": [
    "# Check for missing values\n",
    "print(\"\\nMissing Values:\")\n",
    "print(df.isnull().sum())\n",
    "\n",
    "# Drop any duplicate entries based on the 'Book Title'\n",
    "df = df.drop_duplicates(subset=['original_title'])\n",
    " "
   ]
  },
  {
   "cell_type": "code",
   "execution_count": 31,
   "id": "dc2c7c39",
   "metadata": {},
   "outputs": [
    {
     "name": "stdout",
     "output_type": "stream",
     "text": [
      "book_id                      0\n",
      "goodreads_book_id            0\n",
      "best_book_id                 0\n",
      "work_id                      0\n",
      "books_count                  0\n",
      "isbn                         0\n",
      "isbn13                       0\n",
      "authors                      0\n",
      "original_publication_year    0\n",
      "original_title               0\n",
      "title                        0\n",
      "language_code                0\n",
      "average_rating               0\n",
      "ratings_count                0\n",
      "work_ratings_count           0\n",
      "work_text_reviews_count      0\n",
      "ratings_1                    0\n",
      "ratings_2                    0\n",
      "ratings_3                    0\n",
      "ratings_4                    0\n",
      "ratings_5                    0\n",
      "image_url                    0\n",
      "small_image_url              0\n",
      "dtype: int64\n"
     ]
    }
   ],
   "source": [
    "# Drop rows with missing values\n",
    "df.dropna(inplace=True)\n",
    "print(df.isnull().sum())"
   ]
  },
  {
   "cell_type": "code",
   "execution_count": 30,
   "id": "989f5ec3",
   "metadata": {},
   "outputs": [
    {
     "name": "stdout",
     "output_type": "stream",
     "text": [
      "Unique Harry Potter Books:\n",
      "[\"Harry Potter and the Philosopher's Stone\"\n",
      " 'Harry Potter and the Prisoner of Azkaban'\n",
      " 'Harry Potter and the Order of the Phoenix'\n",
      " 'Harry Potter and the Chamber of Secrets'\n",
      " 'Harry Potter and the Goblet of Fire'\n",
      " 'Harry Potter and the Deathly Hallows'\n",
      " 'Harry Potter and the Half-Blood Prince'\n",
      " 'Complete Harry Potter Boxed Set'\n",
      " 'Harry Potter Collection (Harry Potter, #1-6)'\n",
      " 'The Magical Worlds of Harry Potter: A Treasury of Myths, Legends, and Fascinating Facts']\n"
     ]
    }
   ],
   "source": [
    "# Filter the dataset to focus on the Harry Potter series\n",
    "df_hp = df[df['original_title'].str.contains('Harry Potter', case=False, na=False)]\n",
    "\n",
    "# Check the unique book titles in the Harry Potter series\n",
    "print(\"Unique Harry Potter Books:\")\n",
    "print(df_hp['original_title'].unique())"
   ]
  },
  {
   "cell_type": "markdown",
   "id": "c7fa4305",
   "metadata": {},
   "source": [
    "## The most selling books within the Harry Potter series."
   ]
  },
  {
   "cell_type": "code",
   "execution_count": 38,
   "id": "3fa83259",
   "metadata": {},
   "outputs": [
    {
     "name": "stdout",
     "output_type": "stream",
     "text": [
      "Most Selling Books in Harry Potter Series:\n",
      "original_title\n",
      "Harry Potter and the Philosopher's Stone    4602479\n",
      "Harry Potter and the Prisoner of Azkaban    1832823\n",
      "Harry Potter and the Chamber of Secrets     1779331\n",
      "Harry Potter and the Goblet of Fire         1753043\n",
      "Harry Potter and the Deathly Hallows        1746574\n",
      "Name: ratings_count, dtype: int64\n"
     ]
    }
   ],
   "source": [
    "# Group by 'original_title' and sum up the 'ratings_count' to find total ratings for each book\n",
    "most_selling_books = df_hp.groupby('original_title')['ratings_count'].sum().sort_values(ascending=False)\n",
    "\n",
    "# Print the top selling books\n",
    "print(\"Most Selling Books in Harry Potter Series:\")\n",
    "print(most_selling_books.head())"
   ]
  },
  {
   "cell_type": "markdown",
   "id": "dcfd784f",
   "metadata": {},
   "source": [
    "## Calculate the average rating of the Harry Potter books."
   ]
  },
  {
   "cell_type": "code",
   "execution_count": 36,
   "id": "ce49aae3",
   "metadata": {},
   "outputs": [
    {
     "name": "stdout",
     "output_type": "stream",
     "text": [
      "Average rating of the Harry Potter books: 4.49\n"
     ]
    }
   ],
   "source": [
    "average_rating_hp = df_hp['average_rating'].mean()\n",
    "\n",
    "# Print the average rating\n",
    "print(f\"Average rating of the Harry Potter books: {average_rating_hp:.2f}\")"
   ]
  },
  {
   "cell_type": "code",
   "execution_count": null,
   "id": "f4d8258e",
   "metadata": {},
   "outputs": [],
   "source": []
  }
 ],
 "metadata": {
  "kernelspec": {
   "display_name": "Python 3 (ipykernel)",
   "language": "python",
   "name": "python3"
  },
  "language_info": {
   "codemirror_mode": {
    "name": "ipython",
    "version": 3
   },
   "file_extension": ".py",
   "mimetype": "text/x-python",
   "name": "python",
   "nbconvert_exporter": "python",
   "pygments_lexer": "ipython3",
   "version": "3.9.13"
  }
 },
 "nbformat": 4,
 "nbformat_minor": 5
}
